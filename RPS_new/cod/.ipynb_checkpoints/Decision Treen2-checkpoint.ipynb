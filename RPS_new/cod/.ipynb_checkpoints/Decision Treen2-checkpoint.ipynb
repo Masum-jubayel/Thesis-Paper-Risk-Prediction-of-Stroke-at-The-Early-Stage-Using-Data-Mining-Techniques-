{
 "cells": [
  {
   "cell_type": "code",
   "execution_count": null,
   "metadata": {},
   "outputs": [],
   "source": [
    "# Load libraries\n",
    "import pandas as pd\n",
    "from sklearn.tree import DecisionTreeClassifier # Import Decision Tree Classifier\n",
    "from sklearn.model_selection import train_test_split # Import train_test_split function\n",
    "from sklearn import metrics #Import scikit-learn metrics module for accuracy calculation"
   ]
  },
  {
   "cell_type": "code",
   "execution_count": null,
   "metadata": {},
   "outputs": [],
   "source": [
    "col_names = ['age', 'gender', 'SBP', 'DBP', 'diabetes', 'heart_diseases', 'F_H_stroke', 'alcoholic', 'Phy_active','smoking','depression','S_fat_up','fibre_dwn','CKD_kidney','cl_attribute']\n",
    "# load dataset\n",
    "stroke = pd.read_csv(\"thesis_data_conf_15.csv\", header=None, names=col_names)"
   ]
  },
  {
   "cell_type": "code",
   "execution_count": null,
   "metadata": {},
   "outputs": [],
   "source": [
    "stroke.head(5)"
   ]
  },
  {
   "cell_type": "code",
   "execution_count": null,
   "metadata": {},
   "outputs": [],
   "source": [
    "#split dataset in features and target variable\n",
    "feature_cols = ['age', 'gender', 'SBP', 'DBP', 'diabetes', 'heart_diseases', 'F_H_stroke', 'alcoholic', 'Phy_active','smoking','depression','S_fat_up','fibre_dwn','CKD_kidney']\n",
    "X = stroke[feature_cols] # Features\n",
    "y = stroke.cl_attribute # Target variable"
   ]
  },
  {
   "cell_type": "code",
   "execution_count": null,
   "metadata": {},
   "outputs": [],
   "source": [
    "# Split dataset into training set and test set\n",
    "X_train, X_test, y_train, y_test = train_test_split(X, y, test_size=0.2, random_state=100) # 80% training and 20% test\n"
   ]
  },
  {
   "cell_type": "code",
   "execution_count": null,
   "metadata": {
    "scrolled": true
   },
   "outputs": [],
   "source": [
    "# Create Decision Tree classifer object\n",
    "clf_gini = DecisionTreeClassifier(criterion = \"gini\", random_state = 100, max_depth=4, min_samples_leaf=20)\n",
    "\n",
    "# Train Decision Tree Classifer\n",
    "clf_gini = clf_gini.fit(X_train,y_train)\n",
    "\n",
    "#Predict the response for test dataset\n",
    "y_pred = clf_gini.predict(X_test)\n",
    "\n",
    "\n",
    "print(\"Confusion Matrix: \\n\",metrics.confusion_matrix(y_test, y_pred)) \n",
    "      \n",
    "print (\"Accuracy : \" , metrics.accuracy_score(y_test,y_pred)*100) \n",
    "    \n",
    "print(\"Report : \\n\",metrics.classification_report(y_test, y_pred)) "
   ]
  },
  {
   "cell_type": "code",
   "execution_count": null,
   "metadata": {},
   "outputs": [],
   "source": [
    "# Create Decision Tree classifer object\n",
    "clf_entropy = DecisionTreeClassifier(criterion=\"entropy\", max_depth=4,  random_state = 100)\n",
    "\n",
    "# Train Decision Tree Classifer\n",
    "clf_entropy = clf_entropy.fit(X_train,y_train)\n",
    "\n",
    "#Predict the response for test dataset\n",
    "y_pred = clf_entropy.predict(X_test)\n",
    "\n",
    "# Model Accuracy, how often is the classifier correct?\n",
    "print(\"Accuracy:\",metrics.accuracy_score(y_test, y_pred)*100)\n",
    "\n",
    "print(\"Confusion Matrix: \\n\",metrics.confusion_matrix(y_test, y_pred)) \n",
    "      \n",
    "print (\"Accuracy : \" , metrics.accuracy_score(y_test,y_pred)*100) \n",
    "    \n",
    "print(\"Report : \\n\",metrics.classification_report(y_test, y_pred)) "
   ]
  },
  {
   "cell_type": "code",
   "execution_count": null,
   "metadata": {},
   "outputs": [],
   "source": [
    "from sklearn.tree import export_graphviz\n",
    "from sklearn.externals.six import StringIO  \n",
    "from IPython.display import Image\n",
    "import pydotplus\n",
    "\n",
    "dot_data = StringIO()\n",
    "export_graphviz(clf_entropy, out_file=dot_data,  \n",
    "                filled=True, rounded=True,\n",
    "                special_characters=True,feature_names = feature_cols,class_names=['0','1'])\n",
    "graph = pydotplus.graph_from_dot_data(dot_data.getvalue())  \n",
    "graph.write_png('tree_stroke.png')\n",
    "Image(graph.create_png())\n"
   ]
  },
  {
   "cell_type": "code",
   "execution_count": null,
   "metadata": {},
   "outputs": [],
   "source": []
  },
  {
   "cell_type": "code",
   "execution_count": null,
   "metadata": {},
   "outputs": [],
   "source": []
  }
 ],
 "metadata": {
  "kernelspec": {
   "display_name": "Python 3",
   "language": "python",
   "name": "python3"
  },
  "language_info": {
   "codemirror_mode": {
    "name": "ipython",
    "version": 3
   },
   "file_extension": ".py",
   "mimetype": "text/x-python",
   "name": "python",
   "nbconvert_exporter": "python",
   "pygments_lexer": "ipython3",
   "version": "3.7.3"
  }
 },
 "nbformat": 4,
 "nbformat_minor": 2
}
